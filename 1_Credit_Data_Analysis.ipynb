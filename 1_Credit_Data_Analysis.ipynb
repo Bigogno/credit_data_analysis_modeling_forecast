{
  "nbformat": 4,
  "nbformat_minor": 0,
  "metadata": {
    "colab": {
      "provenance": []
    },
    "kernelspec": {
      "name": "python3",
      "display_name": "Python 3"
    },
    "language_info": {
      "name": "python"
    }
  },
  "cells": [
    {
      "cell_type": "markdown",
      "source": [
        "# Functions"
      ],
      "metadata": {
        "id": "5D4rWf8_3NGC"
      }
    },
    {
      "cell_type": "code",
      "execution_count": 24,
      "metadata": {
        "id": "K7mq5mm03Aa8"
      },
      "outputs": [],
      "source": [
        "import pandas as pd\n",
        "import sqlite3\n",
        "\n",
        "def connect():\n",
        "    conn = sqlite3.connect('base_bacen.sqlite')\n",
        "    return conn\n",
        "\n",
        "#Variable to connect\n",
        "conn = connect()\n",
        "\n",
        "#Function to execute queries\n",
        "def query(conn, sql_query):\n",
        "  try:\n",
        "      df = pd.read_sql(sql_query, con=conn)\n",
        "  except TypeError:\n",
        "      df = None\n",
        "  return df\n",
        "  \n",
        "#Function to find NULL by one column\n",
        "def select_null(column, table):\n",
        "  query_select_null = 'SELECT ' + column + ' ' + \\\n",
        "    'FROM ' + table + ' ' + \\\n",
        "    'WHERE ' + column + ' = \"nan\" ' + \\\n",
        "    'OR ' + column + ' = NULL'\n",
        "  return query_select_null\n",
        " \n",
        "#Function to find all table NULLs \n",
        "def verify_all_table_nulls(list_columns, table):\n",
        "  for column in list_columns:\n",
        "    select_null_by_column = select_null(column, table)\n",
        "    null_columns = query(conn, select_null_by_column)\n",
        "    if (null_columns.empty):\n",
        "      print(\"Column \" + column + \": 0\")\n",
        "    else:\n",
        "      print(\"Column \" + column + \": \" + str(len(null_columns)))\n",
        "\n",
        "#Function that selects Mode of a column\n",
        "def select_mode(column, table):\n",
        "  mode = 'SELECT ' + column + ' ' + \\\n",
        "    'AS ' + 'mode_' + column + ' ' + \\\n",
        "    'FROM ' + table + ' ' \\\n",
        "    'GROUP BY ' + column + ' ' + \\\n",
        "    'ORDER  BY COUNT(*) DESC ' + \\\n",
        "    'LIMIT 1'\n",
        "  return mode\n",
        "\n",
        "#Function that selects Mean of a column\n",
        "def select_mean(column, table):\n",
        "  mean = 'SELECT AVG(' + column + ') ' + \\\n",
        "    'as ' + 'mean_' + column + ' ' + \\\n",
        "    'FROM ' + table\n",
        "  return mean\n",
        "\n",
        "#Function that selects Median of a column\n",
        "def select_median(column, table):\n",
        "  median = 'SELECT AVG(' + column + ') ' + \\\n",
        "   'AS ' + 'median_' + column + ' ' + \\\n",
        "    'FROM (SELECT ' + column + ' ' + \\\n",
        "    'FROM ' + table + ' ' + \\\n",
        "      'ORDER BY ' + column + ' ' + \\\n",
        "       'LIMIT 2 - (SELECT COUNT(*) FROM ' + table + ') % 2 ' + \\\n",
        "    'OFFSET (SELECT (COUNT(*) - 1) / 2 ' + \\\n",
        "       'FROM ' + table + '))'\n",
        "  return median\n",
        "\n",
        "#Function to look for min and max outliers\n",
        "def print_outliers(min, max):\n",
        "  min_outlier = str(min)\n",
        "  max_outlier = str(max)\n",
        "  print('Min Outlier\\n')\n",
        "\n",
        "  #Looking for min outliers\n",
        "  for column in table_columns:\n",
        "    outliers_query = 'SELECT ' + column + ' FROM ' + table_name + ' ' + \\\n",
        "            'WHERE CAST(' + column + ' AS INTEGER) < ' + min_outlier\n",
        "    outlier = query(conn, outliers_query)\n",
        "    print(\"Column \" + column + \": \" + str(len(outlier)))\n",
        "\n",
        "  #Looking for max outliers\n",
        "  print('\\nMax Outlier\\n')\n",
        "\n",
        "  for column in table_columns:\n",
        "    outliers_query =  'SELECT ' + column + ' FROM ' + table_name + ' ' + \\\n",
        "            'WHERE CAST(' + column + ' AS INTEGER) > ' + max_outlier\n",
        "    outlier = query(conn, outliers_query)\n",
        "    print(\"Column \" + column + \": \" + str(len(outlier)))"
      ]
    },
    {
      "cell_type": "markdown",
      "source": [
        "# Table Info"
      ],
      "metadata": {
        "id": "grBSSmk74HEt"
      }
    },
    {
      "cell_type": "code",
      "source": [
        "#Table Name\n",
        "table_name = 'scr'\n",
        "\n",
        "#List of table columns\n",
        "table_columns = [\n",
        "  \"valor_credito_vencer_ate_30_dia\",\n",
        "  \"valor_credito_vencer_31_60_dia\" ,\n",
        "  \"valor_credito_vencer_61_90_dia\" ,\n",
        "  \"valor_credito_vencer_acima_90_dia\" ,\n",
        "  \"valor_credito_vencido_15_30_dia\" ,\n",
        "  \"valor_credito_vencido_31_60_dia\" ,\n",
        "  \"valor_credito_vencido_61_90_dia\" ,\n",
        "  \"valor_credito_vencido_acima_90_dia\"\n",
        "]"
      ],
      "metadata": {
        "id": "bWSt_Zs44GYk"
      },
      "execution_count": 2,
      "outputs": []
    },
    {
      "cell_type": "markdown",
      "source": [
        "# Perfiming Credit Analysis"
      ],
      "metadata": {
        "id": "ZYIYUQL44aps"
      }
    },
    {
      "cell_type": "code",
      "source": [
        "#Describing df with Pandas\n",
        "df = query(conn, 'SELECT * FROM scr')\n",
        "\n",
        "#Converting to float to assure they're on the right type\n",
        "for column in table_columns:\n",
        "  df[column] = df[column].astype(float)\n",
        "\n",
        "df.describe()"
      ],
      "metadata": {
        "colab": {
          "base_uri": "https://localhost:8080/",
          "height": 300
        },
        "id": "Frlnap_I4Z-l",
        "outputId": "460243be-c986-4404-dc4f-51cbbab4211a"
      },
      "execution_count": 29,
      "outputs": [
        {
          "output_type": "execute_result",
          "data": {
            "text/plain": [
              "       valor_credito_vencer_ate_30_dia  valor_credito_vencer_31_60_dia  \\\n",
              "count                    272619.000000                   272619.000000   \n",
              "mean                       1054.678767                      403.670035   \n",
              "std                        3730.736723                     1453.834721   \n",
              "min                           0.000000                        0.000000   \n",
              "25%                           4.880000                        0.000000   \n",
              "50%                         200.930000                        8.150000   \n",
              "75%                         838.955000                      303.490000   \n",
              "max                      481007.320000                    76177.250000   \n",
              "\n",
              "       valor_credito_vencer_61_90_dia  valor_credito_vencer_acima_90_dia  \\\n",
              "count                    2.726190e+05                       2.726190e+05   \n",
              "mean                     3.011223e+02                       8.842787e+03   \n",
              "std                      2.639395e+03                       2.298424e+06   \n",
              "min                      0.000000e+00                       0.000000e+00   \n",
              "25%                      0.000000e+00                       0.000000e+00   \n",
              "50%                      0.000000e+00                       0.000000e+00   \n",
              "75%                      2.146500e+02                       1.230335e+03   \n",
              "max                      1.259003e+06                       1.200000e+09   \n",
              "\n",
              "       valor_credito_vencido_15_30_dia  valor_credito_vencido_31_60_dia  \\\n",
              "count                    259347.000000                    272619.000000   \n",
              "mean                         45.205210                        56.876465   \n",
              "std                         638.408454                      1012.533892   \n",
              "min                           0.000000                         0.000000   \n",
              "25%                           0.000000                         0.000000   \n",
              "50%                           0.000000                         0.000000   \n",
              "75%                           0.000000                         0.000000   \n",
              "max                      156976.350000                    280592.100000   \n",
              "\n",
              "       valor_credito_vencido_61_90_dia  valor_credito_vencido_acima_90_dia  \n",
              "count                    272619.000000                        2.726190e+05  \n",
              "mean                         63.074537                        2.959231e+02  \n",
              "std                        1266.193974                        5.617983e+03  \n",
              "min                           0.000000                        0.000000e+00  \n",
              "25%                           0.000000                        0.000000e+00  \n",
              "50%                           0.000000                        0.000000e+00  \n",
              "75%                           0.000000                        0.000000e+00  \n",
              "max                      244155.820000                        1.248027e+06  "
            ],
            "text/html": [
              "\n",
              "  <div id=\"df-47f5dffb-b49d-4faf-a4d8-47f4e27f7d73\">\n",
              "    <div class=\"colab-df-container\">\n",
              "      <div>\n",
              "<style scoped>\n",
              "    .dataframe tbody tr th:only-of-type {\n",
              "        vertical-align: middle;\n",
              "    }\n",
              "\n",
              "    .dataframe tbody tr th {\n",
              "        vertical-align: top;\n",
              "    }\n",
              "\n",
              "    .dataframe thead th {\n",
              "        text-align: right;\n",
              "    }\n",
              "</style>\n",
              "<table border=\"1\" class=\"dataframe\">\n",
              "  <thead>\n",
              "    <tr style=\"text-align: right;\">\n",
              "      <th></th>\n",
              "      <th>valor_credito_vencer_ate_30_dia</th>\n",
              "      <th>valor_credito_vencer_31_60_dia</th>\n",
              "      <th>valor_credito_vencer_61_90_dia</th>\n",
              "      <th>valor_credito_vencer_acima_90_dia</th>\n",
              "      <th>valor_credito_vencido_15_30_dia</th>\n",
              "      <th>valor_credito_vencido_31_60_dia</th>\n",
              "      <th>valor_credito_vencido_61_90_dia</th>\n",
              "      <th>valor_credito_vencido_acima_90_dia</th>\n",
              "    </tr>\n",
              "  </thead>\n",
              "  <tbody>\n",
              "    <tr>\n",
              "      <th>count</th>\n",
              "      <td>272619.000000</td>\n",
              "      <td>272619.000000</td>\n",
              "      <td>2.726190e+05</td>\n",
              "      <td>2.726190e+05</td>\n",
              "      <td>259347.000000</td>\n",
              "      <td>272619.000000</td>\n",
              "      <td>272619.000000</td>\n",
              "      <td>2.726190e+05</td>\n",
              "    </tr>\n",
              "    <tr>\n",
              "      <th>mean</th>\n",
              "      <td>1054.678767</td>\n",
              "      <td>403.670035</td>\n",
              "      <td>3.011223e+02</td>\n",
              "      <td>8.842787e+03</td>\n",
              "      <td>45.205210</td>\n",
              "      <td>56.876465</td>\n",
              "      <td>63.074537</td>\n",
              "      <td>2.959231e+02</td>\n",
              "    </tr>\n",
              "    <tr>\n",
              "      <th>std</th>\n",
              "      <td>3730.736723</td>\n",
              "      <td>1453.834721</td>\n",
              "      <td>2.639395e+03</td>\n",
              "      <td>2.298424e+06</td>\n",
              "      <td>638.408454</td>\n",
              "      <td>1012.533892</td>\n",
              "      <td>1266.193974</td>\n",
              "      <td>5.617983e+03</td>\n",
              "    </tr>\n",
              "    <tr>\n",
              "      <th>min</th>\n",
              "      <td>0.000000</td>\n",
              "      <td>0.000000</td>\n",
              "      <td>0.000000e+00</td>\n",
              "      <td>0.000000e+00</td>\n",
              "      <td>0.000000</td>\n",
              "      <td>0.000000</td>\n",
              "      <td>0.000000</td>\n",
              "      <td>0.000000e+00</td>\n",
              "    </tr>\n",
              "    <tr>\n",
              "      <th>25%</th>\n",
              "      <td>4.880000</td>\n",
              "      <td>0.000000</td>\n",
              "      <td>0.000000e+00</td>\n",
              "      <td>0.000000e+00</td>\n",
              "      <td>0.000000</td>\n",
              "      <td>0.000000</td>\n",
              "      <td>0.000000</td>\n",
              "      <td>0.000000e+00</td>\n",
              "    </tr>\n",
              "    <tr>\n",
              "      <th>50%</th>\n",
              "      <td>200.930000</td>\n",
              "      <td>8.150000</td>\n",
              "      <td>0.000000e+00</td>\n",
              "      <td>0.000000e+00</td>\n",
              "      <td>0.000000</td>\n",
              "      <td>0.000000</td>\n",
              "      <td>0.000000</td>\n",
              "      <td>0.000000e+00</td>\n",
              "    </tr>\n",
              "    <tr>\n",
              "      <th>75%</th>\n",
              "      <td>838.955000</td>\n",
              "      <td>303.490000</td>\n",
              "      <td>2.146500e+02</td>\n",
              "      <td>1.230335e+03</td>\n",
              "      <td>0.000000</td>\n",
              "      <td>0.000000</td>\n",
              "      <td>0.000000</td>\n",
              "      <td>0.000000e+00</td>\n",
              "    </tr>\n",
              "    <tr>\n",
              "      <th>max</th>\n",
              "      <td>481007.320000</td>\n",
              "      <td>76177.250000</td>\n",
              "      <td>1.259003e+06</td>\n",
              "      <td>1.200000e+09</td>\n",
              "      <td>156976.350000</td>\n",
              "      <td>280592.100000</td>\n",
              "      <td>244155.820000</td>\n",
              "      <td>1.248027e+06</td>\n",
              "    </tr>\n",
              "  </tbody>\n",
              "</table>\n",
              "</div>\n",
              "      <button class=\"colab-df-convert\" onclick=\"convertToInteractive('df-47f5dffb-b49d-4faf-a4d8-47f4e27f7d73')\"\n",
              "              title=\"Convert this dataframe to an interactive table.\"\n",
              "              style=\"display:none;\">\n",
              "        \n",
              "  <svg xmlns=\"http://www.w3.org/2000/svg\" height=\"24px\"viewBox=\"0 0 24 24\"\n",
              "       width=\"24px\">\n",
              "    <path d=\"M0 0h24v24H0V0z\" fill=\"none\"/>\n",
              "    <path d=\"M18.56 5.44l.94 2.06.94-2.06 2.06-.94-2.06-.94-.94-2.06-.94 2.06-2.06.94zm-11 1L8.5 8.5l.94-2.06 2.06-.94-2.06-.94L8.5 2.5l-.94 2.06-2.06.94zm10 10l.94 2.06.94-2.06 2.06-.94-2.06-.94-.94-2.06-.94 2.06-2.06.94z\"/><path d=\"M17.41 7.96l-1.37-1.37c-.4-.4-.92-.59-1.43-.59-.52 0-1.04.2-1.43.59L10.3 9.45l-7.72 7.72c-.78.78-.78 2.05 0 2.83L4 21.41c.39.39.9.59 1.41.59.51 0 1.02-.2 1.41-.59l7.78-7.78 2.81-2.81c.8-.78.8-2.07 0-2.86zM5.41 20L4 18.59l7.72-7.72 1.47 1.35L5.41 20z\"/>\n",
              "  </svg>\n",
              "      </button>\n",
              "      \n",
              "  <style>\n",
              "    .colab-df-container {\n",
              "      display:flex;\n",
              "      flex-wrap:wrap;\n",
              "      gap: 12px;\n",
              "    }\n",
              "\n",
              "    .colab-df-convert {\n",
              "      background-color: #E8F0FE;\n",
              "      border: none;\n",
              "      border-radius: 50%;\n",
              "      cursor: pointer;\n",
              "      display: none;\n",
              "      fill: #1967D2;\n",
              "      height: 32px;\n",
              "      padding: 0 0 0 0;\n",
              "      width: 32px;\n",
              "    }\n",
              "\n",
              "    .colab-df-convert:hover {\n",
              "      background-color: #E2EBFA;\n",
              "      box-shadow: 0px 1px 2px rgba(60, 64, 67, 0.3), 0px 1px 3px 1px rgba(60, 64, 67, 0.15);\n",
              "      fill: #174EA6;\n",
              "    }\n",
              "\n",
              "    [theme=dark] .colab-df-convert {\n",
              "      background-color: #3B4455;\n",
              "      fill: #D2E3FC;\n",
              "    }\n",
              "\n",
              "    [theme=dark] .colab-df-convert:hover {\n",
              "      background-color: #434B5C;\n",
              "      box-shadow: 0px 1px 3px 1px rgba(0, 0, 0, 0.15);\n",
              "      filter: drop-shadow(0px 1px 2px rgba(0, 0, 0, 0.3));\n",
              "      fill: #FFFFFF;\n",
              "    }\n",
              "  </style>\n",
              "\n",
              "      <script>\n",
              "        const buttonEl =\n",
              "          document.querySelector('#df-47f5dffb-b49d-4faf-a4d8-47f4e27f7d73 button.colab-df-convert');\n",
              "        buttonEl.style.display =\n",
              "          google.colab.kernel.accessAllowed ? 'block' : 'none';\n",
              "\n",
              "        async function convertToInteractive(key) {\n",
              "          const element = document.querySelector('#df-47f5dffb-b49d-4faf-a4d8-47f4e27f7d73');\n",
              "          const dataTable =\n",
              "            await google.colab.kernel.invokeFunction('convertToInteractive',\n",
              "                                                     [key], {});\n",
              "          if (!dataTable) return;\n",
              "\n",
              "          const docLinkHtml = 'Like what you see? Visit the ' +\n",
              "            '<a target=\"_blank\" href=https://colab.research.google.com/notebooks/data_table.ipynb>data table notebook</a>'\n",
              "            + ' to learn more about interactive tables.';\n",
              "          element.innerHTML = '';\n",
              "          dataTable['output_type'] = 'display_data';\n",
              "          await google.colab.output.renderOutput(dataTable, element);\n",
              "          const docLink = document.createElement('div');\n",
              "          docLink.innerHTML = docLinkHtml;\n",
              "          element.appendChild(docLink);\n",
              "        }\n",
              "      </script>\n",
              "    </div>\n",
              "  </div>\n",
              "  "
            ]
          },
          "metadata": {},
          "execution_count": 29
        }
      ]
    },
    {
      "cell_type": "markdown",
      "source": [
        "# Looking or Null and NaN"
      ],
      "metadata": {
        "id": "4V3QBytK5S6U"
      }
    },
    {
      "cell_type": "code",
      "source": [
        "verify_all_table_nulls(table_columns, table_name)"
      ],
      "metadata": {
        "colab": {
          "base_uri": "https://localhost:8080/"
        },
        "id": "rGzuC5h-4mcX",
        "outputId": "1e4db1cc-d3d1-4e25-95ea-11a0a511d2ef"
      },
      "execution_count": 5,
      "outputs": [
        {
          "output_type": "stream",
          "name": "stdout",
          "text": [
            "Column valor_credito_vencer_ate_30_dia: 0\n",
            "Column valor_credito_vencer_31_60_dia: 0\n",
            "Column valor_credito_vencer_61_90_dia: 0\n",
            "Column valor_credito_vencer_acima_90_dia: 0\n",
            "Column valor_credito_vencido_15_30_dia: 13272\n",
            "Column valor_credito_vencido_31_60_dia: 0\n",
            "Column valor_credito_vencido_61_90_dia: 0\n",
            "Column valor_credito_vencido_acima_90_dia: 0\n"
          ]
        }
      ]
    },
    {
      "cell_type": "markdown",
      "source": [
        "Found 13272 nan values valor_credito_vencido_15_30_dia"
      ],
      "metadata": {
        "id": "6R4yITNS4wt2"
      }
    },
    {
      "cell_type": "markdown",
      "source": [
        "# Looking for Outliers"
      ],
      "metadata": {
        "id": "PociOcTs5dfR"
      }
    },
    {
      "cell_type": "code",
      "source": [
        "df.groupby(['chave_cpf']).size()"
      ],
      "metadata": {
        "colab": {
          "base_uri": "https://localhost:8080/"
        },
        "id": "iy-gYzcn4tFS",
        "outputId": "e1199ed0-3f25-43eb-96d3-27e744321548"
      },
      "execution_count": 30,
      "outputs": [
        {
          "output_type": "execute_result",
          "data": {
            "text/plain": [
              "chave_cpf\n",
              "10003023342    12\n",
              "10004431332     1\n",
              "1000721890      8\n",
              "10008661896    13\n",
              "10009504506     9\n",
              "               ..\n",
              "99988353331     7\n",
              "99989120865    14\n",
              "99991920229     8\n",
              "99994904248    14\n",
              "99997063221     3\n",
              "Length: 31450, dtype: int64"
            ]
          },
          "metadata": {},
          "execution_count": 30
        }
      ]
    },
    {
      "cell_type": "code",
      "source": [
        "df.groupby(['codigo_modalidade_operacao']).size()"
      ],
      "metadata": {
        "colab": {
          "base_uri": "https://localhost:8080/"
        },
        "id": "R1Pzzmze5iAY",
        "outputId": "ce900784-949f-45e5-c953-faa83458933b"
      },
      "execution_count": 31,
      "outputs": [
        {
          "output_type": "execute_result",
          "data": {
            "text/plain": [
              "codigo_modalidade_operacao\n",
              "101      1945\n",
              "1304    81683\n",
              "202     26124\n",
              "203     36958\n",
              "204     47170\n",
              "210     32064\n",
              "213     25617\n",
              "218     20498\n",
              "406       156\n",
              "499       404\n",
              "dtype: int64"
            ]
          },
          "metadata": {},
          "execution_count": 31
        }
      ]
    },
    {
      "cell_type": "markdown",
      "source": [
        "Found Product 203 wich wasn't informed by the Product Owner"
      ],
      "metadata": {
        "id": "UMKepdpw57Pm"
      }
    },
    {
      "cell_type": "code",
      "source": [
        "df.groupby(['valor_credito_vencer_ate_30_dia']).size()"
      ],
      "metadata": {
        "colab": {
          "base_uri": "https://localhost:8080/"
        },
        "id": "y61rZ1pJ5kNO",
        "outputId": "95e0a47e-a931-42c3-92e6-09ac32ff45b3"
      },
      "execution_count": 32,
      "outputs": [
        {
          "output_type": "execute_result",
          "data": {
            "text/plain": [
              "valor_credito_vencer_ate_30_dia\n",
              "0.00         54037\n",
              "0.01           226\n",
              "0.02           196\n",
              "0.03           137\n",
              "0.04           129\n",
              "             ...  \n",
              "254286.76        1\n",
              "271779.32        1\n",
              "315906.75        1\n",
              "329836.86        1\n",
              "481007.32        1\n",
              "Length: 121039, dtype: int64"
            ]
          },
          "metadata": {},
          "execution_count": 32
        }
      ]
    },
    {
      "cell_type": "code",
      "source": [
        "df.groupby(['valor_credito_vencer_31_60_dia']).size()"
      ],
      "metadata": {
        "colab": {
          "base_uri": "https://localhost:8080/"
        },
        "id": "rWD00R1K5kPV",
        "outputId": "5035af60-310d-4555-f1bf-cd43ba5da7be"
      },
      "execution_count": 33,
      "outputs": [
        {
          "output_type": "execute_result",
          "data": {
            "text/plain": [
              "valor_credito_vencer_31_60_dia\n",
              "0.00        130207\n",
              "0.01            25\n",
              "0.02            19\n",
              "0.03            16\n",
              "0.04            13\n",
              "             ...  \n",
              "66022.65         1\n",
              "67754.69         1\n",
              "71063.67         1\n",
              "74029.01         1\n",
              "76177.25         1\n",
              "Length: 81473, dtype: int64"
            ]
          },
          "metadata": {},
          "execution_count": 33
        }
      ]
    },
    {
      "cell_type": "code",
      "source": [
        "df.groupby(['valor_credito_vencer_61_90_dia']).size()"
      ],
      "metadata": {
        "colab": {
          "base_uri": "https://localhost:8080/"
        },
        "id": "NrfBZYvF5kRk",
        "outputId": "10e8a0bc-322a-4053-fa98-db8f928f520c"
      },
      "execution_count": 34,
      "outputs": [
        {
          "output_type": "execute_result",
          "data": {
            "text/plain": [
              "valor_credito_vencer_61_90_dia\n",
              "0.00          144014\n",
              "0.01               4\n",
              "0.02               8\n",
              "0.03               8\n",
              "0.04               6\n",
              "               ...  \n",
              "56619.84           1\n",
              "58545.74           1\n",
              "59777.08           1\n",
              "98794.38           1\n",
              "1259003.05         1\n",
              "Length: 72160, dtype: int64"
            ]
          },
          "metadata": {},
          "execution_count": 34
        }
      ]
    },
    {
      "cell_type": "code",
      "source": [
        "df.groupby(['valor_credito_vencer_acima_90_dia']).size()"
      ],
      "metadata": {
        "colab": {
          "base_uri": "https://localhost:8080/"
        },
        "id": "I_02x0OV5kTt",
        "outputId": "89395062-114e-4e19-c37c-851172a82bae"
      },
      "execution_count": 35,
      "outputs": [
        {
          "output_type": "execute_result",
          "data": {
            "text/plain": [
              "valor_credito_vencer_acima_90_dia\n",
              "0.000000e+00    139365\n",
              "1.000000e-02        22\n",
              "2.000000e-02        37\n",
              "3.000000e-02        37\n",
              "4.000000e-02        23\n",
              "                 ...  \n",
              "2.086403e+06         1\n",
              "3.389030e+06         1\n",
              "4.366009e+06         1\n",
              "5.051969e+06         1\n",
              "1.200000e+09         1\n",
              "Length: 111202, dtype: int64"
            ]
          },
          "metadata": {},
          "execution_count": 35
        }
      ]
    },
    {
      "cell_type": "code",
      "source": [
        "df.groupby(['valor_credito_vencido_15_30_dia']).size()"
      ],
      "metadata": {
        "colab": {
          "base_uri": "https://localhost:8080/"
        },
        "id": "GYOdZcOI5kVg",
        "outputId": "0c9e1e19-5c76-4fe2-b630-3f74c0677f06"
      },
      "execution_count": 36,
      "outputs": [
        {
          "output_type": "execute_result",
          "data": {
            "text/plain": [
              "valor_credito_vencido_15_30_dia\n",
              "0.00         242329\n",
              "0.01             12\n",
              "0.02              5\n",
              "0.03              2\n",
              "0.04              3\n",
              "              ...  \n",
              "55902.89          1\n",
              "59216.48          1\n",
              "62630.63          1\n",
              "64642.95          1\n",
              "156976.35         1\n",
              "Length: 14733, dtype: int64"
            ]
          },
          "metadata": {},
          "execution_count": 36
        }
      ]
    },
    {
      "cell_type": "code",
      "source": [
        "df.groupby(['valor_credito_vencido_31_60_dia']).size()"
      ],
      "metadata": {
        "colab": {
          "base_uri": "https://localhost:8080/"
        },
        "id": "dgGPFZKp5kX8",
        "outputId": "a542e91b-6792-4731-c79b-9718db78bb33"
      },
      "execution_count": 37,
      "outputs": [
        {
          "output_type": "execute_result",
          "data": {
            "text/plain": [
              "valor_credito_vencido_31_60_dia\n",
              "0.00         255803\n",
              "0.01              7\n",
              "0.02              3\n",
              "0.03              2\n",
              "0.04              3\n",
              "              ...  \n",
              "93815.74          1\n",
              "104783.46         1\n",
              "120942.57         1\n",
              "123819.38         1\n",
              "280592.10         1\n",
              "Length: 14864, dtype: int64"
            ]
          },
          "metadata": {},
          "execution_count": 37
        }
      ]
    },
    {
      "cell_type": "code",
      "source": [
        "df.groupby(['valor_credito_vencido_61_90_dia']).size()"
      ],
      "metadata": {
        "colab": {
          "base_uri": "https://localhost:8080/"
        },
        "id": "5G2AE5GY5kZ8",
        "outputId": "6646e3c6-b290-4897-b914-7e1fcbb124ac"
      },
      "execution_count": 38,
      "outputs": [
        {
          "output_type": "execute_result",
          "data": {
            "text/plain": [
              "valor_credito_vencido_61_90_dia\n",
              "0.00         259741\n",
              "0.01              4\n",
              "0.02              2\n",
              "0.03              1\n",
              "0.05              4\n",
              "              ...  \n",
              "137899.48         1\n",
              "150010.29         1\n",
              "162843.48         1\n",
              "211966.00         1\n",
              "244155.82         1\n",
              "Length: 11864, dtype: int64"
            ]
          },
          "metadata": {},
          "execution_count": 38
        }
      ]
    },
    {
      "cell_type": "code",
      "source": [
        "df.groupby(['valor_credito_vencido_acima_90_dia']).size()"
      ],
      "metadata": {
        "colab": {
          "base_uri": "https://localhost:8080/"
        },
        "id": "pMVHzuna5kck",
        "outputId": "e4e887f5-8f6f-4c38-c4d3-267988ad0a09"
      },
      "execution_count": 39,
      "outputs": [
        {
          "output_type": "execute_result",
          "data": {
            "text/plain": [
              "valor_credito_vencido_acima_90_dia\n",
              "0.00          250055\n",
              "0.01               8\n",
              "0.02               8\n",
              "0.03              10\n",
              "0.04               5\n",
              "               ...  \n",
              "666587.18          1\n",
              "783425.88          1\n",
              "861291.80          1\n",
              "979210.14          1\n",
              "1248027.21         1\n",
              "Length: 21417, dtype: int64"
            ]
          },
          "metadata": {},
          "execution_count": 39
        }
      ]
    },
    {
      "cell_type": "code",
      "source": [
        "#Looking for outliers < 0 or > 1,000,000\n",
        "print_outliers(0, 1000000)"
      ],
      "metadata": {
        "colab": {
          "base_uri": "https://localhost:8080/"
        },
        "id": "RlYFE5mK5kf0",
        "outputId": "78a4c168-415d-472d-b3c8-d0de1ac11786"
      },
      "execution_count": 19,
      "outputs": [
        {
          "output_type": "stream",
          "name": "stdout",
          "text": [
            "Min Outlier\n",
            "\n",
            "Column valor_credito_vencer_ate_30_dia: 0\n",
            "Column valor_credito_vencer_31_60_dia: 0\n",
            "Column valor_credito_vencer_61_90_dia: 0\n",
            "Column valor_credito_vencer_acima_90_dia: 0\n",
            "Column valor_credito_vencido_15_30_dia: 0\n",
            "Column valor_credito_vencido_31_60_dia: 0\n",
            "Column valor_credito_vencido_61_90_dia: 0\n",
            "Column valor_credito_vencido_acima_90_dia: 0\n",
            "\n",
            "Max Outlier\n",
            "\n",
            "Column valor_credito_vencer_ate_30_dia: 0\n",
            "Column valor_credito_vencer_31_60_dia: 0\n",
            "Column valor_credito_vencer_61_90_dia: 1\n",
            "Column valor_credito_vencer_acima_90_dia: 15\n",
            "Column valor_credito_vencido_15_30_dia: 0\n",
            "Column valor_credito_vencido_31_60_dia: 0\n",
            "Column valor_credito_vencido_61_90_dia: 0\n",
            "Column valor_credito_vencido_acima_90_dia: 1\n"
          ]
        }
      ]
    },
    {
      "cell_type": "markdown",
      "source": [
        "Found values greater than 1,000,000 but none less than 0"
      ],
      "metadata": {
        "id": "Xs2PoqKB6i-W"
      }
    },
    {
      "cell_type": "markdown",
      "source": [
        "# Mode, Mean and Median"
      ],
      "metadata": {
        "id": "VRw3eNdh7F9F"
      }
    },
    {
      "cell_type": "code",
      "source": [
        "#Select Mode\n",
        "for column in table_columns:\n",
        "  select = select_mode(column, table_name)\n",
        "  message = 'Mode of ' + column + ' = ' + str(query(conn, select).values[0]).replace(\"'\", \"\").replace(\"[\", \"\").replace(\"]\", \"\")\n",
        "  print(message)"
      ],
      "metadata": {
        "colab": {
          "base_uri": "https://localhost:8080/"
        },
        "id": "UmpmSweT5kh7",
        "outputId": "958c3a21-8db7-47c1-e38e-f1989214dd6b"
      },
      "execution_count": 25,
      "outputs": [
        {
          "output_type": "stream",
          "name": "stdout",
          "text": [
            "Mode of valor_credito_vencer_ate_30_dia = 0.0\n",
            "Mode of valor_credito_vencer_31_60_dia = 0.0\n",
            "Mode of valor_credito_vencer_61_90_dia = 0.0\n",
            "Mode of valor_credito_vencer_acima_90_dia = 0.0\n",
            "Mode of valor_credito_vencido_15_30_dia = 0.0\n",
            "Mode of valor_credito_vencido_31_60_dia = 0.0\n",
            "Mode of valor_credito_vencido_61_90_dia = 0.0\n",
            "Mode of valor_credito_vencido_acima_90_dia = 0.0\n"
          ]
        }
      ]
    },
    {
      "cell_type": "code",
      "source": [
        "#Select Mean\n",
        "for column in table_columns:\n",
        "  select = select_mean(column, table_name)\n",
        "  message = 'Mean of ' + column + ' = ' + str(query(conn, select).values[0]).replace(\"'\", \"\").replace(\"[\", \"\").replace(\"]\", \"\")\n",
        "  print(message)"
      ],
      "metadata": {
        "colab": {
          "base_uri": "https://localhost:8080/"
        },
        "id": "xXgSbsMf5kle",
        "outputId": "bf842bc3-6849-4d97-8961-8687e141ad4b"
      },
      "execution_count": 26,
      "outputs": [
        {
          "output_type": "stream",
          "name": "stdout",
          "text": [
            "Mean of valor_credito_vencer_ate_30_dia = 1054.67876747\n",
            "Mean of valor_credito_vencer_31_60_dia = 403.67003463\n",
            "Mean of valor_credito_vencer_61_90_dia = 301.12227317\n",
            "Mean of valor_credito_vencer_acima_90_dia = 8842.78738309\n",
            "Mean of valor_credito_vencido_15_30_dia = 43.00447016\n",
            "Mean of valor_credito_vencido_31_60_dia = 56.87646543\n",
            "Mean of valor_credito_vencido_61_90_dia = 63.07453743\n",
            "Mean of valor_credito_vencido_acima_90_dia = 295.92307103\n"
          ]
        }
      ]
    },
    {
      "cell_type": "code",
      "source": [
        "#Select Median\n",
        "for column in table_columns:\n",
        "  select = select_median(column, table_name)\n",
        "  message = 'Median of ' + column + ' = ' + str(query(conn, select).values[0]).replace(\"'\", \"\").replace(\"[\", \"\").replace(\"]\", \"\")\n",
        "  print(message)"
      ],
      "metadata": {
        "colab": {
          "base_uri": "https://localhost:8080/"
        },
        "id": "5cg59RS_7O4N",
        "outputId": "6779780c-ab6b-4fa9-c4bc-f59a7f26a7a9"
      },
      "execution_count": 27,
      "outputs": [
        {
          "output_type": "stream",
          "name": "stdout",
          "text": [
            "Median of valor_credito_vencer_ate_30_dia = 2272.61\n",
            "Median of valor_credito_vencer_31_60_dia = 1067.68\n",
            "Median of valor_credito_vencer_61_90_dia = 0.\n",
            "Median of valor_credito_vencer_acima_90_dia = 0.\n",
            "Median of valor_credito_vencido_15_30_dia = 0.\n",
            "Median of valor_credito_vencido_31_60_dia = 0.\n",
            "Median of valor_credito_vencido_61_90_dia = 0.\n",
            "Median of valor_credito_vencido_acima_90_dia = 0.\n"
          ]
        }
      ]
    }
  ]
}